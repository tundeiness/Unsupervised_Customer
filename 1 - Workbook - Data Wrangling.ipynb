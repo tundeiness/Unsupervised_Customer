{
 "cells": [
  {
   "cell_type": "markdown",
   "metadata": {},
   "source": [
    "#### COMPANION WORKBOOK\n",
    "\n",
    "# Data Wrangling\n",
    "\n",
    "To make the most out of this program, we strongly recommend you to:\n",
    "1. First practice writing and implementing all of the code from Coding Section of the online module.\n",
    "2. Then, freely experiment with and explore any interesting or confusing concepts. Simply insert new code cells and then use the help of Google and official documentation.\n",
    "3. Finally, tackle all of the exercises at the end. They will help you tie everything together and **learn in context.**\n",
    "\n",
    "#### <span style=\"color:#555\">MODULE CODE SANDBOX</span>\n",
    "\n",
    "Use this space to practice writing and implementing all of the code from Coding Section of the online module. Insert new code cells as needed, and feel free to write notes to yourself in Markdown."
   ]
  },
  {
   "cell_type": "markdown",
   "metadata": {},
   "source": [
    "## I. Prep Work"
   ]
  },
  {
   "cell_type": "code",
   "execution_count": null,
   "metadata": {},
   "outputs": [],
   "source": []
  },
  {
   "cell_type": "code",
   "execution_count": null,
   "metadata": {},
   "outputs": [],
   "source": []
  },
  {
   "cell_type": "code",
   "execution_count": null,
   "metadata": {},
   "outputs": [],
   "source": []
  },
  {
   "cell_type": "markdown",
   "metadata": {},
   "source": [
    "## II. Transaction-Level Data Cleaning"
   ]
  },
  {
   "cell_type": "code",
   "execution_count": null,
   "metadata": {},
   "outputs": [],
   "source": []
  },
  {
   "cell_type": "code",
   "execution_count": null,
   "metadata": {},
   "outputs": [],
   "source": []
  },
  {
   "cell_type": "code",
   "execution_count": null,
   "metadata": {},
   "outputs": [],
   "source": []
  },
  {
   "cell_type": "markdown",
   "metadata": {},
   "source": [
    "## III. Customer-Level Feature Engineering"
   ]
  },
  {
   "cell_type": "code",
   "execution_count": null,
   "metadata": {},
   "outputs": [],
   "source": []
  },
  {
   "cell_type": "code",
   "execution_count": null,
   "metadata": {},
   "outputs": [],
   "source": []
  },
  {
   "cell_type": "code",
   "execution_count": null,
   "metadata": {},
   "outputs": [],
   "source": []
  },
  {
   "cell_type": "markdown",
   "metadata": {},
   "source": [
    "## IV. Intermediary Levels & Multi-Index Group-By"
   ]
  },
  {
   "cell_type": "code",
   "execution_count": null,
   "metadata": {},
   "outputs": [],
   "source": []
  },
  {
   "cell_type": "code",
   "execution_count": null,
   "metadata": {},
   "outputs": [],
   "source": []
  },
  {
   "cell_type": "code",
   "execution_count": null,
   "metadata": {},
   "outputs": [],
   "source": []
  },
  {
   "cell_type": "markdown",
   "metadata": {},
   "source": [
    "#### <span style=\"color:#555\">EXERCISES</span>\n",
    "\n",
    "Complete each of the following exercises."
   ]
  },
  {
   "cell_type": "markdown",
   "metadata": {},
   "source": [
    "## <span style=\"color:RoyalBlue\">Exercise 1.1 - Coding Section Checkpoint</span>\n",
    "\n",
    "Before moving on, it's imperative that you've been following along the online Coding Section of this module. Those are core to each module and often contain **mission-critical code**, which means that the following modules REQUIRE you to have run that code."
   ]
  },
  {
   "cell_type": "markdown",
   "metadata": {},
   "source": [
    "#### A.) First, confirm that you have a clean transaction-level dataframe. Display the first 5 observations from <code>clean_tx_df</code>.\n",
    "* Do you have a <code>Sales</code> column?"
   ]
  },
  {
   "cell_type": "code",
   "execution_count": null,
   "metadata": {},
   "outputs": [],
   "source": []
  },
  {
   "cell_type": "markdown",
   "metadata": {},
   "source": [
    "<strong style=\"color:RoyalBlue\">Expected output:</strong>\n",
    "<table border=\"1\" class=\"dataframe\">\n",
    "  <thead>\n",
    "    <tr style=\"text-align: right;\">\n",
    "      <th></th>\n",
    "      <th>InvoiceNo</th>\n",
    "      <th>StockCode</th>\n",
    "      <th>Description</th>\n",
    "      <th>Quantity</th>\n",
    "      <th>InvoiceDate</th>\n",
    "      <th>UnitPrice</th>\n",
    "      <th>CustomerID</th>\n",
    "      <th>Country</th>\n",
    "      <th>Sales</th>\n",
    "    </tr>\n",
    "  </thead>\n",
    "  <tbody>\n",
    "    <tr>\n",
    "      <th>0</th>\n",
    "      <td>536370</td>\n",
    "      <td>22728</td>\n",
    "      <td>ALARM CLOCK BAKELIKE PINK</td>\n",
    "      <td>24</td>\n",
    "      <td>12/1/10 8:45</td>\n",
    "      <td>3.75</td>\n",
    "      <td>12583</td>\n",
    "      <td>France</td>\n",
    "      <td>90.0</td>\n",
    "    </tr>\n",
    "    <tr>\n",
    "      <th>1</th>\n",
    "      <td>536370</td>\n",
    "      <td>22727</td>\n",
    "      <td>ALARM CLOCK BAKELIKE RED</td>\n",
    "      <td>24</td>\n",
    "      <td>12/1/10 8:45</td>\n",
    "      <td>3.75</td>\n",
    "      <td>12583</td>\n",
    "      <td>France</td>\n",
    "      <td>90.0</td>\n",
    "    </tr>\n",
    "    <tr>\n",
    "      <th>2</th>\n",
    "      <td>536370</td>\n",
    "      <td>22726</td>\n",
    "      <td>ALARM CLOCK BAKELIKE GREEN</td>\n",
    "      <td>12</td>\n",
    "      <td>12/1/10 8:45</td>\n",
    "      <td>3.75</td>\n",
    "      <td>12583</td>\n",
    "      <td>France</td>\n",
    "      <td>45.0</td>\n",
    "    </tr>\n",
    "    <tr>\n",
    "      <th>3</th>\n",
    "      <td>536370</td>\n",
    "      <td>21724</td>\n",
    "      <td>PANDA AND BUNNIES STICKER SHEET</td>\n",
    "      <td>12</td>\n",
    "      <td>12/1/10 8:45</td>\n",
    "      <td>0.85</td>\n",
    "      <td>12583</td>\n",
    "      <td>France</td>\n",
    "      <td>10.2</td>\n",
    "    </tr>\n",
    "    <tr>\n",
    "      <th>4</th>\n",
    "      <td>536370</td>\n",
    "      <td>21883</td>\n",
    "      <td>STARS GIFT TAPE</td>\n",
    "      <td>24</td>\n",
    "      <td>12/1/10 8:45</td>\n",
    "      <td>0.65</td>\n",
    "      <td>12583</td>\n",
    "      <td>France</td>\n",
    "      <td>15.6</td>\n",
    "    </tr>\n",
    "  </tbody>\n",
    "</table>"
   ]
  },
  {
   "cell_type": "markdown",
   "metadata": {},
   "source": [
    "#### B.) Display the number of missing values in <code>clean_tx_df</code>. Are there still any?"
   ]
  },
  {
   "cell_type": "code",
   "execution_count": null,
   "metadata": {},
   "outputs": [],
   "source": []
  },
  {
   "cell_type": "markdown",
   "metadata": {},
   "source": [
    "#### C.) After confirming part (A) and (B), save your cleaned transaction-level data as <code style=\"color:crimson\">cleaned_transactions.csv</code>.\n",
    "* We'll return to this in <span style=\"color:royalblue\">Modules 2 and 3</span> to create the features for individual items.\n",
    "* Remember to set <code style=\"color:steelblue\">index=None</code> to save only the data and not the auto-generated index."
   ]
  },
  {
   "cell_type": "code",
   "execution_count": null,
   "metadata": {},
   "outputs": [],
   "source": []
  },
  {
   "cell_type": "markdown",
   "metadata": {},
   "source": [
    "#### D.) Confirm that you've successfully created <code>invoice_data</code>. What is the average number of total transactions by customers in the dataset?"
   ]
  },
  {
   "cell_type": "code",
   "execution_count": null,
   "metadata": {},
   "outputs": [],
   "source": []
  },
  {
   "cell_type": "markdown",
   "metadata": {},
   "source": [
    "<strong style=\"color:RoyalBlue\">Expected output:</strong>\n",
    "<pre>\n",
    "3.710144927536232\n",
    "</pre>"
   ]
  },
  {
   "cell_type": "markdown",
   "metadata": {},
   "source": [
    "#### E.) Finally, confirm that you've successfully created <code>cart_data</code>. What is the average cart value in the dataset?"
   ]
  },
  {
   "cell_type": "code",
   "execution_count": null,
   "metadata": {},
   "outputs": [],
   "source": []
  },
  {
   "cell_type": "markdown",
   "metadata": {},
   "source": [
    "<strong style=\"color:RoyalBlue\">Expected output:</strong>\n",
    "<pre>\n",
    "609.8249414062511\n",
    "</pre>"
   ]
  },
  {
   "cell_type": "markdown",
   "metadata": {},
   "source": [
    "## <span style=\"color:RoyalBlue\">Exercise 1.2 - Transaction-Level Exploration</span>\n",
    "\n",
    "Even though we want customer-level data for our ABT, it's still helpful to do some basic exploratory analysis at the transaction level.\n",
    "\n",
    "There are 3 things we've found very helpful to check.\n",
    "1. Shape of the dataset... to know how many observations you have.\n",
    "2. First 10 observations... to get a qualitative \"feel\" for the data.\n",
    "3. Distribution of transactions by country... to see the current \"clusters.\"\n",
    "\n",
    "These will give us guideposts for data wrangling.\n",
    "\n",
    "#### A.) First, display the shape of the dataset."
   ]
  },
  {
   "cell_type": "code",
   "execution_count": null,
   "metadata": {},
   "outputs": [],
   "source": []
  },
  {
   "cell_type": "markdown",
   "metadata": {},
   "source": [
    "<strong style=\"color:RoyalBlue\">Expected output:</strong>\n",
    "<pre>\n",
    "(35116, 8)\n",
    "</pre>"
   ]
  },
  {
   "cell_type": "markdown",
   "metadata": {},
   "source": [
    "Remember, these observations are transactions, not customers!\n",
    "\n",
    "#### B.) Next, display the first 10 observations from the dataset."
   ]
  },
  {
   "cell_type": "code",
   "execution_count": null,
   "metadata": {},
   "outputs": [],
   "source": []
  },
  {
   "cell_type": "markdown",
   "metadata": {},
   "source": [
    "#### C.) Here are some questions to consider.\n",
    "* In the first 10 observations, how many different customers are there?\n",
    "* How many different invoices are there?\n",
    "* Given answers to the first two questions, how many unique purchases are shown?\n",
    "* Technically, aren't these observations actually **line-items** within each transaction?\n",
    "* Do you expect the customer-level dataset to be much smaller?"
   ]
  },
  {
   "cell_type": "markdown",
   "metadata": {},
   "source": [
    "#### D.) Finally, display the distribution of transactions by country."
   ]
  },
  {
   "cell_type": "code",
   "execution_count": null,
   "metadata": {},
   "outputs": [],
   "source": []
  },
  {
   "cell_type": "markdown",
   "metadata": {},
   "source": [
    "As you can see, there are many **sparse classes**. Countries like Lithuania, Brazil, and even the USA have a tiny number of transactions.\n",
    "* Plus, remember, this is at the transaction/line-item level. \n",
    "* The number of customers for each country is even smaller because each customer has multiple transactions!\n",
    "* Therefore, it's plain to see that clustering by country is not very efficient."
   ]
  },
  {
   "cell_type": "markdown",
   "metadata": {},
   "source": [
    "## <span style=\"color:RoyalBlue\">Exercise 1.3 - Customer-Level Aggregations</span>\n",
    "\n",
    "In the Coding Section, you learned how to aggregate invoice data by customer. We then engineered one new feature called <code>'total_transactions'</code>.\n",
    "\n",
    "#### A.) Next, using the same technique, aggregate product data by customer. Engineer 2 features:\n",
    "* <code style=\"color:steelblue\">'total_products'</code> - the total number of products purchased by each customer (not the unit Quantity within each product!).\n",
    "* <code style=\"color:steelblue\">'total_unique_products'</code> - the number of unique products purchased by each customer.\n",
    "* **Hint:** you'll want to use the Item ID column (i.e. StockCode) after your groupby!\n",
    "* Let's name it <code style=\"color:crimson\">product_data</code>."
   ]
  },
  {
   "cell_type": "code",
   "execution_count": null,
   "metadata": {},
   "outputs": [],
   "source": []
  },
  {
   "cell_type": "markdown",
   "metadata": {},
   "source": [
    "<strong style=\"color:RoyalBlue\">Expected output:</strong>\n",
    "<table border=\"1\" class=\"dataframe\">\n",
    "  <thead>\n",
    "    <tr style=\"text-align: right;\">\n",
    "      <th></th>\n",
    "      <th>total_products</th>\n",
    "      <th>total_unique_products</th>\n",
    "    </tr>\n",
    "    <tr>\n",
    "      <th>CustomerID</th>\n",
    "      <th></th>\n",
    "      <th></th>\n",
    "    </tr>\n",
    "  </thead>\n",
    "  <tbody>\n",
    "    <tr>\n",
    "      <th>12347.0</th>\n",
    "      <td>182</td>\n",
    "      <td>103</td>\n",
    "    </tr>\n",
    "    <tr>\n",
    "      <th>12348.0</th>\n",
    "      <td>31</td>\n",
    "      <td>22</td>\n",
    "    </tr>\n",
    "    <tr>\n",
    "      <th>12349.0</th>\n",
    "      <td>73</td>\n",
    "      <td>73</td>\n",
    "    </tr>\n",
    "    <tr>\n",
    "      <th>12350.0</th>\n",
    "      <td>17</td>\n",
    "      <td>17</td>\n",
    "    </tr>\n",
    "    <tr>\n",
    "      <th>12352.0</th>\n",
    "      <td>85</td>\n",
    "      <td>59</td>\n",
    "    </tr>\n",
    "  </tbody>\n",
    "</table>"
   ]
  },
  {
   "cell_type": "markdown",
   "metadata": {},
   "source": [
    "By definition, <code style=\"color:steelblue\">'total_unique_products'</code> should always be less than or equal to <code style=\"color:steelblue\">'total_products'</code>."
   ]
  },
  {
   "cell_type": "markdown",
   "metadata": {},
   "source": [
    "#### B. Confirm that all customers'  <code style=\"color:steelblue\">'total_unique_products'</code> are less than or equal to their corresponding <code style=\"color:steelblue\">'total_products'</code>.\n",
    "* Tip: There are multiple ways correct to confirm this. We've included one way in the Answer Key."
   ]
  },
  {
   "cell_type": "code",
   "execution_count": null,
   "metadata": {},
   "outputs": [],
   "source": []
  },
  {
   "cell_type": "markdown",
   "metadata": {},
   "source": [
    "#### C.) Finally, aggregate sales data by customer. Engineer 2 features:\n",
    "* <code style=\"color:steelblue\">'total_sales'</code> - the total sales for each customer.\n",
    "* <code style=\"color:steelblue\">'avg_product_value'</code> - the average value of the products purchased by the customer (not the UnitPrice!).\n",
    "* **Hint:** you'll want to use the Sales column after your groupby!\n",
    "* Let's name it <code style=\"color:crimson\">sales_data</code>."
   ]
  },
  {
   "cell_type": "code",
   "execution_count": null,
   "metadata": {},
   "outputs": [],
   "source": []
  },
  {
   "cell_type": "markdown",
   "metadata": {},
   "source": [
    "<strong style=\"color:RoyalBlue\">Expected output:</strong>\n",
    "<table border=\"1\" class=\"dataframe\">\n",
    "  <thead>\n",
    "    <tr style=\"text-align: right;\">\n",
    "      <th></th>\n",
    "      <th>total_sales</th>\n",
    "      <th>avg_product_value</th>\n",
    "    </tr>\n",
    "    <tr>\n",
    "      <th>CustomerID</th>\n",
    "      <th></th>\n",
    "      <th></th>\n",
    "    </tr>\n",
    "  </thead>\n",
    "  <tbody>\n",
    "    <tr>\n",
    "      <th>12347</th>\n",
    "      <td>4310.00</td>\n",
    "      <td>23.681319</td>\n",
    "    </tr>\n",
    "    <tr>\n",
    "      <th>12348</th>\n",
    "      <td>1797.24</td>\n",
    "      <td>57.975484</td>\n",
    "    </tr>\n",
    "    <tr>\n",
    "      <th>12349</th>\n",
    "      <td>1757.55</td>\n",
    "      <td>24.076027</td>\n",
    "    </tr>\n",
    "    <tr>\n",
    "      <th>12350</th>\n",
    "      <td>334.40</td>\n",
    "      <td>19.670588</td>\n",
    "    </tr>\n",
    "    <tr>\n",
    "      <th>12352</th>\n",
    "      <td>2506.04</td>\n",
    "      <td>29.482824</td>\n",
    "    </tr>\n",
    "  </tbody>\n",
    "</table>"
   ]
  },
  {
   "cell_type": "markdown",
   "metadata": {},
   "source": [
    "## <span style=\"color:RoyalBlue\">Exercise 1.4 - Customer-Level Cart Data</span>\n",
    "\n",
    "In the Coding Section, we first aggregated cart data at the \"cart-level.\" Now that we have **cart-level** cart data, all we need to do is roll up by CustomerID again to get **customer-level** cart data."
   ]
  },
  {
   "cell_type": "markdown",
   "metadata": {},
   "source": [
    "#### A.) Just as a refresher, display the first 5 observations from <code>cart_data</code>."
   ]
  },
  {
   "cell_type": "code",
   "execution_count": null,
   "metadata": {},
   "outputs": [],
   "source": []
  },
  {
   "cell_type": "markdown",
   "metadata": {},
   "source": [
    "#### B.) Aggregate cart data by customer. Engineer 3 features:\n",
    "* <code style=\"color:steelblue\">'avg_cart_value'</code> - average cart value by customer.\n",
    "* <code style=\"color:steelblue\">'min_cart_value'</code> - minimum cart value by customer.\n",
    "* <code style=\"color:steelblue\">'max_cart_value'</code> - maximum cart value by customer.\n",
    "* Let's name it <code style=\"color:crimson\">agg_cart_data</code>."
   ]
  },
  {
   "cell_type": "code",
   "execution_count": null,
   "metadata": {},
   "outputs": [],
   "source": []
  },
  {
   "cell_type": "markdown",
   "metadata": {},
   "source": [
    "<strong style=\"color:RoyalBlue\">Expected output:</strong>\n",
    "<table border=\"1\" class=\"dataframe\">\n",
    "  <thead>\n",
    "    <tr style=\"text-align: right;\">\n",
    "      <th></th>\n",
    "      <th>avg_cart_value</th>\n",
    "      <th>min_cart_value</th>\n",
    "      <th>max_cart_value</th>\n",
    "    </tr>\n",
    "    <tr>\n",
    "      <th>CustomerID</th>\n",
    "      <th></th>\n",
    "      <th></th>\n",
    "      <th></th>\n",
    "    </tr>\n",
    "  </thead>\n",
    "  <tbody>\n",
    "    <tr>\n",
    "      <th>12347</th>\n",
    "      <td>615.714286</td>\n",
    "      <td>224.82</td>\n",
    "      <td>1294.32</td>\n",
    "    </tr>\n",
    "    <tr>\n",
    "      <th>12348</th>\n",
    "      <td>449.310000</td>\n",
    "      <td>227.44</td>\n",
    "      <td>892.80</td>\n",
    "    </tr>\n",
    "    <tr>\n",
    "      <th>12349</th>\n",
    "      <td>1757.550000</td>\n",
    "      <td>1757.55</td>\n",
    "      <td>1757.55</td>\n",
    "    </tr>\n",
    "    <tr>\n",
    "      <th>12350</th>\n",
    "      <td>334.400000</td>\n",
    "      <td>334.40</td>\n",
    "      <td>334.40</td>\n",
    "    </tr>\n",
    "    <tr>\n",
    "      <th>12352</th>\n",
    "      <td>313.255000</td>\n",
    "      <td>120.33</td>\n",
    "      <td>840.30</td>\n",
    "    </tr>\n",
    "  </tbody>\n",
    "</table>"
   ]
  },
  {
   "cell_type": "markdown",
   "metadata": {},
   "source": [
    "## <span style=\"color:RoyalBlue\">Exercise 1.5 - Merging the ABT</span>\n",
    "\n",
    "Great, now you have multiple dataframes that each contain customer-level features. You have:\n",
    "* <code style=\"color:crimson\">invoice_data</code>\n",
    "* <code style=\"color:crimson\">product_data</code>\n",
    "* <code style=\"color:crimson\">sales_data</code>\n",
    "* <code style=\"color:crimson\">agg_cart_data</code>\n",
    "\n",
    "Next, all you need to do is **join / merge** them all together.\n",
    "\n",
    "#### A.) Join the various customer-level datasets together with the <code style=\"color:steelblue\">.join()</code> function.\n",
    "* Just pick one of the customer-level dataframes and join it to a list of the others.\n",
    "* By default, it will join the dataframes on their <code style=\"color:steelblue\">index</code>... In this case, it will join by CustomerID, which is exactly what we want.\n",
    "* You can read more about the <code style=\"color:steelblue\">.join()</code> function in the <a href=\"http://pandas.pydata.org/pandas-docs/stable/generated/pandas.DataFrame.join.html\" target=\"_blank\">documentation</a>."
   ]
  },
  {
   "cell_type": "code",
   "execution_count": null,
   "metadata": {},
   "outputs": [],
   "source": []
  },
  {
   "cell_type": "markdown",
   "metadata": {},
   "source": [
    "<strong style=\"color:RoyalBlue\">Expected output:</strong>\n",
    "<table border=\"1\" class=\"dataframe\">\n",
    "  <thead>\n",
    "    <tr style=\"text-align: right;\">\n",
    "      <th></th>\n",
    "      <th>total_transactions</th>\n",
    "      <th>total_products</th>\n",
    "      <th>total_unique_products</th>\n",
    "      <th>total_sales</th>\n",
    "      <th>avg_product_value</th>\n",
    "      <th>avg_cart_value</th>\n",
    "      <th>min_cart_value</th>\n",
    "      <th>max_cart_value</th>\n",
    "    </tr>\n",
    "    <tr>\n",
    "      <th>CustomerID</th>\n",
    "      <th></th>\n",
    "      <th></th>\n",
    "      <th></th>\n",
    "      <th></th>\n",
    "      <th></th>\n",
    "      <th></th>\n",
    "      <th></th>\n",
    "      <th></th>\n",
    "    </tr>\n",
    "  </thead>\n",
    "  <tbody>\n",
    "    <tr>\n",
    "      <th>12347</th>\n",
    "      <td>7</td>\n",
    "      <td>182</td>\n",
    "      <td>103</td>\n",
    "      <td>4310.00</td>\n",
    "      <td>23.681319</td>\n",
    "      <td>615.714286</td>\n",
    "      <td>224.82</td>\n",
    "      <td>1294.32</td>\n",
    "    </tr>\n",
    "    <tr>\n",
    "      <th>12348</th>\n",
    "      <td>4</td>\n",
    "      <td>31</td>\n",
    "      <td>22</td>\n",
    "      <td>1797.24</td>\n",
    "      <td>57.975484</td>\n",
    "      <td>449.310000</td>\n",
    "      <td>227.44</td>\n",
    "      <td>892.80</td>\n",
    "    </tr>\n",
    "    <tr>\n",
    "      <th>12349</th>\n",
    "      <td>1</td>\n",
    "      <td>73</td>\n",
    "      <td>73</td>\n",
    "      <td>1757.55</td>\n",
    "      <td>24.076027</td>\n",
    "      <td>1757.550000</td>\n",
    "      <td>1757.55</td>\n",
    "      <td>1757.55</td>\n",
    "    </tr>\n",
    "    <tr>\n",
    "      <th>12350</th>\n",
    "      <td>1</td>\n",
    "      <td>17</td>\n",
    "      <td>17</td>\n",
    "      <td>334.40</td>\n",
    "      <td>19.670588</td>\n",
    "      <td>334.400000</td>\n",
    "      <td>334.40</td>\n",
    "      <td>334.40</td>\n",
    "    </tr>\n",
    "    <tr>\n",
    "      <th>12352</th>\n",
    "      <td>8</td>\n",
    "      <td>85</td>\n",
    "      <td>59</td>\n",
    "      <td>2506.04</td>\n",
    "      <td>29.482824</td>\n",
    "      <td>313.255000</td>\n",
    "      <td>120.33</td>\n",
    "      <td>840.30</td>\n",
    "    </tr>\n",
    "  </tbody>\n",
    "</table>"
   ]
  },
  {
   "cell_type": "markdown",
   "metadata": {},
   "source": [
    "#### B.) Finally, let's save <code style=\"color:crimson\">customer_df</code> as our analytical base table to use later.\n",
    "* **Important:** We will not set <code style=\"color:steelblue\">index=None</code> because we want to keep the CustomerID's as the index (this will be important when we get to Module 4).\n",
    "* Save the file as <code style=\"color:crimson\">'analytical_base_table.csv'</code>"
   ]
  },
  {
   "cell_type": "code",
   "execution_count": null,
   "metadata": {},
   "outputs": [],
   "source": []
  },
  {
   "cell_type": "markdown",
   "metadata": {},
   "source": [
    "Congratulations for making it through the Data Wrangling module! As a reminder, here are a few things you did in this module:\n",
    "* You explored and cleaned the transaction-level dataset.\n",
    "* You then rolled it up to the customer level, aggregating new features along the way.\n",
    "* You also saw how intermediary groupby's can help you create otherwise tricky features.\n",
    "* And you joined all of your customer-level datasets together into one analytical base table.\n",
    "\n",
    "In the next module, we'll see how trying to include features for individual items can raise new challenges (i.e. The Curse of Dimensionality). We'll also introduce you to the first of 2 recommended solutions: thresholding."
   ]
  }
 ],
 "metadata": {
  "anaconda-cloud": {},
  "kernelspec": {
   "display_name": "Python 3",
   "language": "python",
   "name": "python3"
  },
  "language_info": {
   "codemirror_mode": {
    "name": "ipython",
    "version": 3
   },
   "file_extension": ".py",
   "mimetype": "text/x-python",
   "name": "python",
   "nbconvert_exporter": "python",
   "pygments_lexer": "ipython3",
   "version": "3.7.0"
  }
 },
 "nbformat": 4,
 "nbformat_minor": 1
}
